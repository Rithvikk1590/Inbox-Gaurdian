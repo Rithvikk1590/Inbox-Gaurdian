{
 "cells": [
  {
   "cell_type": "code",
   "execution_count": 2,
   "id": "65911a40",
   "metadata": {},
   "outputs": [],
   "source": [
    "## do pip install tensorflow and pandas\n",
    "from tensorflow import keras\n",
    "import pandas as pd\n",
    "import os\n",
    "from sklearn.model_selection import train_test_split\n",
    "from sklearn.feature_extraction.text import TfidfVectorizer\n",
    "from sklearn.ensemble import RandomForestClassifier\n",
    "from sklearn.metrics import classification_report, accuracy_score"
   ]
  },
  {
   "cell_type": "code",
   "execution_count": 3,
   "id": "36c8c7d6",
   "metadata": {},
   "outputs": [
    {
     "name": "stdout",
     "output_type": "stream",
     "text": [
      "                                          Email Text      Email Type\n",
      "0  Dear Jordan, your subscription has been succes...      Safe Email\n",
      "1  Dear Casey, thank you for your purchase. Your ...      Safe Email\n",
      "2  Congratulations! You've won a $3000 gift card....  Phishing Email\n",
      "3  You have a new secure message from your bank. ...  Phishing Email\n",
      "4  Your package delivery is pending. Please provi...  Phishing Email\n",
      "Index(['Email Text', 'Email Type'], dtype='object')\n"
     ]
    }
   ],
   "source": [
    "new_train_data = pd.read_csv(\"..\\Phishing_validation_emails.csv\")\n",
    "print(new_train_data.head())\n",
    "print(new_train_data.columns)"
   ]
  },
  {
   "cell_type": "code",
   "execution_count": 4,
   "id": "993a730f",
   "metadata": {},
   "outputs": [
    {
     "name": "stdout",
     "output_type": "stream",
     "text": [
      "                                          Email Text      Email Type\n",
      "0  Dear Jordan, your subscription has been succes...      Safe Email\n",
      "1  Dear Casey, thank you for your purchase. Your ...      Safe Email\n",
      "2  Congratulations! You've won a $3000 gift card....  Phishing Email\n",
      "3  You have a new secure message from your bank. ...  Phishing Email\n",
      "4  Your package delivery is pending. Please provi...  Phishing Email\n"
     ]
    }
   ],
   "source": [
    "df1 = pd.DataFrame(new_train_data, columns=[\"Email Text\", \"Email Type\"])\n",
    "print(df1.head())"
   ]
  },
  {
   "cell_type": "code",
   "execution_count": 5,
   "id": "ec36aca3",
   "metadata": {},
   "outputs": [],
   "source": [
    "X1 = df1[\"Email Text\"]\n",
    "Y1 = df1[\"Email Type\"]\n",
    "\n",
    "X1_train, X1_test, y1_train, y1_test = train_test_split(X1,Y1, test_size=0.2, random_state=42)\n",
    "\n",
    "vectorizer = TfidfVectorizer(stop_words=\"english\", max_features=4000)\n",
    "X1_train_tfidf = vectorizer.fit_transform(X1_train)\n",
    "X1_test_tfidf = vectorizer.transform(X1_test)"
   ]
  },
  {
   "cell_type": "code",
   "execution_count": 6,
   "id": "07ed7ad4",
   "metadata": {},
   "outputs": [
    {
     "name": "stdout",
     "output_type": "stream",
     "text": [
      "Accuracy: 1.0\n",
      "                precision    recall  f1-score   support\n",
      "\n",
      "Phishing Email       1.00      1.00      1.00       189\n",
      "    Safe Email       1.00      1.00      1.00       211\n",
      "\n",
      "      accuracy                           1.00       400\n",
      "     macro avg       1.00      1.00      1.00       400\n",
      "  weighted avg       1.00      1.00      1.00       400\n",
      "\n",
      "Train Accuracy: 1.0\n",
      "Test Accuracy: 1.0\n"
     ]
    }
   ],
   "source": [
    "model2_test = RandomForestClassifier(n_estimators=100, random_state=42)\n",
    "model2_test.fit(X1_train_tfidf, y1_train)\n",
    "y_predictions = model2_test.predict(X1_test_tfidf)\n",
    "\n",
    "print(\"Accuracy:\", accuracy_score(y1_test, y_predictions))\n",
    "print(classification_report(y1_test,y_predictions))\n",
    "print(\"Train Accuracy:\", model2_test.score(X1_train_tfidf, y1_train))\n",
    "print(\"Test Accuracy:\", model2_test.score(X1_test_tfidf, y1_test))"
   ]
  },
  {
   "cell_type": "code",
   "execution_count": 16,
   "id": "1d53059d",
   "metadata": {},
   "outputs": [
    {
     "name": "stdout",
     "output_type": "stream",
     "text": [
      "Phishing\n"
     ]
    }
   ],
   "source": [
    "test_email = \"\"\" Due to technical reasons, please we are expanding and \n",
    "upgrading all Staff Mailbox immediately. Please CLICK HERE   \n",
    "and fill the form completely. Click on the send button for validation. \n",
    "This message is from Admin Helpdesk. The views expressed in this email are, unless otherwise stated, \n",
    " those of the author and not those of the National Health Laboratory Service or its management. \n",
    " The information in this e-mail is confidential and is intended solely for the addressee. \n",
    " Access to this e-mail by anyone else is unauthorized. If you are not the intended recipient, \n",
    " any disclosure, copying, distribution or any action taken or omitted in reliance on this, is prohibited and may be unlawful. \n",
    " Whilst all reasonable steps are taken to ensure the accuracy and integrity of information and data transmitted electronically\n",
    "and to preserve the confidentiality thereof, no liability or responsibility whatsoever is accepted if information or data is, \n",
    "for whatever reason, corrupted or does not reach its intended destination.  \n",
    " Due to technical reasons, please we are expanding and upgrading all Staff Mailbox immediately. \n",
    " Please聽CLICK HERE聽and fill the form completely. Click on the send button聽for validation. This message is from Admin Helpdesk.\n",
    " The views expressed in this email are, unless otherwise stated, those of the author and not those of the National \n",
    " Health Laboratory Service or its management. The information in this e-mail is confidential and is intended solely \n",
    " for the addressee. Access to this e-mail by anyone else is unauthorized. If you are not the intended recipient, \n",
    " any disclosure, copying, distribution or any action taken or omitted in reliance on this, is prohibited \n",
    " and may be unlawful. Whilst all reasonable steps are taken to ensure the accuracy and integrity of information \n",
    " and data transmitted electronically and to preserve the confidentiality thereof, no liability or responsibility \n",
    " whatsoever is accepted if information or data is, for whatever reason, corrupted or does not reach its intended destination.\n",
    "\"\"\"\n",
    "test_email_tfidf = vectorizer.transform([test_email])\n",
    "prediction = model2_test.predict(test_email_tfidf)[0]\n",
    "\n",
    "print(\"Phishing\" if prediction == \"Phishing Email\" else \"Legitimate\")"
   ]
  },
  {
   "cell_type": "code",
   "execution_count": 21,
   "id": "9c978b83",
   "metadata": {},
   "outputs": [
    {
     "name": "stdout",
     "output_type": "stream",
     "text": [
      "Legitimate\n"
     ]
    }
   ],
   "source": [
    "test_email = \"\"\"Hey,\n",
    "How's everything going? I was online today and came across this article about getting a dog. It made me think of our conversation \n",
    "last week about you wanting to get a golden retriever. I found a great local shelter that has some adorable dogs up for adoption.\n",
    "Here's the link: https://spca.org.sg/\n",
    "Let me know what you think when you have a minute!\n",
    "Best,\n",
    "William Buth Lucker\n",
    "\"\"\"\n",
    "test_email_tfidf = vectorizer.transform([test_email])\n",
    "prediction = model2_test.predict(test_email_tfidf)[0]\n",
    "\n",
    "print(\"Phishing\" if prediction == \"Phishing Email\" else \"Legitimate\")"
   ]
  },
  {
   "cell_type": "code",
   "execution_count": null,
   "id": "aa2499ec",
   "metadata": {},
   "outputs": [],
   "source": []
  },
  {
   "cell_type": "code",
   "execution_count": null,
   "id": "a11f9a13",
   "metadata": {},
   "outputs": [],
   "source": []
  },
  {
   "cell_type": "code",
   "execution_count": 8,
   "id": "af1319ef",
   "metadata": {},
   "outputs": [],
   "source": [
    "#X = df[\"email\"]\n",
    "#Y = df[\"label\"]\n",
    "\n",
    "#X_train, X_test, y_train, y_test = train_test_split(X,Y, test_size=0.2, random_state=42)\n",
    "\n",
    "#vectorizer = TfidfVectorizer(stop_words=\"english\", max_features=2500)\n",
    "#X_train_tfidf = vectorizer.fit_transform(X_train)\n",
    "#X_test_tfidf = vectorizer.transform(X_test)\n"
   ]
  },
  {
   "cell_type": "code",
   "execution_count": 9,
   "id": "c82462bc",
   "metadata": {},
   "outputs": [],
   "source": [
    "#n_estimators_list = [50, 100, 150, 200, 250, 300]\n",
    "#for estimator in n_estimators_list:\n",
    "    #model_test = RandomForestClassifier(n_estimators=estimator, random_state=42)\n",
    "    #model_test.fit(X_train_tfidf, y_train)\n",
    "    #y_predictions = model_test.predict(X_test_tfidf)\n",
    "\n",
    "    #print(\"Accuracy:\", estimator, accuracy_score(y_test, y_predictions))\n",
    "    #print(classification_report(y_test,y_predictions))\n",
    "    #print(\"Train Accuracy:\", model_test.score(X_train_tfidf, y_train))\n",
    "    #print(\"Test Accuracy:\", model_test.score(X_test_tfidf, y_test))"
   ]
  },
  {
   "cell_type": "code",
   "execution_count": 10,
   "id": "ffd52ab5",
   "metadata": {},
   "outputs": [
    {
     "data": {
      "text/plain": [
       "' model1_test = RandomForestClassifier(n_estimators=100, random_state=42)\\nmodel1_test.fit(X_train_tfidf, y_train)\\ny_predictions = model1_test.predict(X_test_tfidf)\\n\\nprint(\"Accuracy:\", estimator, accuracy_score(y_test, y_predictions))\\nprint(classification_report(y_test,y_predictions))\\nprint(\"Train Accuracy:\", model_test.score(X_train_tfidf, y_train))\\nprint(\"Test Accuracy:\", model_test.score(X_test_tfidf, y_test)) '"
      ]
     },
     "execution_count": 10,
     "metadata": {},
     "output_type": "execute_result"
    }
   ],
   "source": [
    "\"\"\" model1_test = RandomForestClassifier(n_estimators=100, random_state=42)\n",
    "model1_test.fit(X_train_tfidf, y_train)\n",
    "y_predictions = model1_test.predict(X_test_tfidf)\n",
    "\n",
    "print(\"Accuracy:\", estimator, accuracy_score(y_test, y_predictions))\n",
    "print(classification_report(y_test,y_predictions))\n",
    "print(\"Train Accuracy:\", model_test.score(X_train_tfidf, y_train))\n",
    "print(\"Test Accuracy:\", model_test.score(X_test_tfidf, y_test)) \"\"\""
   ]
  },
  {
   "cell_type": "code",
   "execution_count": 11,
   "id": "b28257b1",
   "metadata": {},
   "outputs": [
    {
     "data": {
      "text/plain": [
       "' test_data = pd.read_csv(\"..\\\\Phishing_validation_emails.csv\")\\nprint(test_data.head())\\nprint(test_data.columns) '"
      ]
     },
     "execution_count": 11,
     "metadata": {},
     "output_type": "execute_result"
    }
   ],
   "source": [
    "\"\"\" test_data = pd.read_csv(\"..\\Phishing_validation_emails.csv\")\n",
    "print(test_data.head())\n",
    "print(test_data.columns) \"\"\""
   ]
  },
  {
   "cell_type": "code",
   "execution_count": 12,
   "id": "201379bc",
   "metadata": {},
   "outputs": [],
   "source": [
    "#x_new_tfdif = vectorizer.transform(test_data[\"Email Text\"])"
   ]
  },
  {
   "cell_type": "code",
   "execution_count": 13,
   "id": "f7ab7eb3",
   "metadata": {},
   "outputs": [
    {
     "data": {
      "text/plain": [
       "' predictions = model1_test.predict(x_new_tfdif)\\ntest_data[\"Prediction_Label\"] = predictions\\nprint(test_data.head())\\ntest_data.to_csv(\"..\\\\Phishing_validation_emails_with_predictions.csv\", index=False) '"
      ]
     },
     "execution_count": 13,
     "metadata": {},
     "output_type": "execute_result"
    }
   ],
   "source": [
    "\"\"\" predictions = model1_test.predict(x_new_tfdif)\n",
    "test_data[\"Prediction_Label\"] = predictions\n",
    "print(test_data.head())\n",
    "test_data.to_csv(\"..\\Phishing_validation_emails_with_predictions.csv\", index=False) \"\"\""
   ]
  }
 ],
 "metadata": {
  "kernelspec": {
   "display_name": "Python 3",
   "language": "python",
   "name": "python3"
  },
  "language_info": {
   "codemirror_mode": {
    "name": "ipython",
    "version": 3
   },
   "file_extension": ".py",
   "mimetype": "text/x-python",
   "name": "python",
   "nbconvert_exporter": "python",
   "pygments_lexer": "ipython3",
   "version": "3.11.9"
  }
 },
 "nbformat": 4,
 "nbformat_minor": 5
}

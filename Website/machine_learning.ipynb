{
 "cells": [
  {
   "cell_type": "code",
   "execution_count": 1,
   "id": "65911a40",
   "metadata": {},
   "outputs": [],
   "source": [
    "## do pip install tensorflow and pandas\n",
    "from tensorflow import keras\n",
    "import pandas as pd\n",
    "import os\n",
    "from sklearn.model_selection import train_test_split\n",
    "from sklearn.feature_extraction.text import TfidfVectorizer\n",
    "from sklearn.ensemble import RandomForestClassifier\n",
    "from sklearn.metrics import classification_report, accuracy_score\n"
   ]
  },
  {
   "cell_type": "code",
   "execution_count": 2,
   "id": "c5b17c38",
   "metadata": {},
   "outputs": [],
   "source": [
    "def load_data(directory, label):\n",
    "    email = []\n",
    "    for filename in os.listdir(directory):\n",
    "        filepath = os.path.join(directory,filename)\n",
    "        try:\n",
    "            with open (filepath, \"r\", encoding=\"latin-1\") as file:\n",
    "                email.append((file.read(), label))\n",
    "        except PermissionError:\n",
    "            print(f\"Permission denied: {filepath}\")\n",
    "    return email"
   ]
  },
  {
   "cell_type": "code",
   "execution_count": 3,
   "id": "aa2499ec",
   "metadata": {},
   "outputs": [
    {
     "name": "stdout",
     "output_type": "stream",
     "text": [
      "Total legitmate emails:  2551\n",
      "Total spam emails:  1397\n",
      "Total emails loaded:  3948\n"
     ]
    }
   ],
   "source": [
    "ham = load_data(r\"C:\\Users\\asus\\OneDrive\\Documents\\SIT Notes 2025\\PRG Fundamentals\\Python Project\\Inbox-Gaurdian\\ML Data\\easy_ham\\easy_ham\", \"ham\")\n",
    "spam = load_data(r\"C:\\Users\\asus\\OneDrive\\Documents\\SIT Notes 2025\\PRG Fundamentals\\Python Project\\Inbox-Gaurdian\\ML Data\\spam_2\\spam_2\", \"spam\")\n",
    "overall = ham + spam\n",
    "\n",
    "print(\"Total legitmate emails: \", len(ham))\n",
    "print(\"Total spam emails: \", len(spam))\n",
    "print(\"Total emails loaded: \", len(overall))"
   ]
  },
  {
   "cell_type": "code",
   "execution_count": 4,
   "id": "a11f9a13",
   "metadata": {},
   "outputs": [
    {
     "name": "stdout",
     "output_type": "stream",
     "text": [
      "                                               email label\n",
      "0  From exmh-workers-admin@redhat.com  Thu Aug 22...   ham\n",
      "1  From Steve_Burt@cursor-system.com  Thu Aug 22 ...   ham\n",
      "2  From timc@2ubh.com  Thu Aug 22 13:52:59 2002\\n...   ham\n",
      "3  From irregulars-admin@tb.tf  Thu Aug 22 14:23:...   ham\n",
      "4  From exmh-users-admin@redhat.com  Thu Aug 22 1...   ham\n"
     ]
    }
   ],
   "source": [
    "df = pd.DataFrame(overall, columns=[\"email\", \"label\"])\n",
    "print(df.head())"
   ]
  },
  {
   "cell_type": "code",
   "execution_count": 5,
   "id": "af1319ef",
   "metadata": {},
   "outputs": [],
   "source": [
    "X = df[\"email\"]\n",
    "Y = df[\"label\"]\n",
    "\n",
    "X_train, X_test, y_train, y_test = train_test_split(X,Y, test_size=0.2, random_state=42)\n",
    "\n",
    "vectorizer = TfidfVectorizer(stop_words=\"english\", max_features=2500)\n",
    "X_train_tfidf = vectorizer.fit_transform(X_train)\n",
    "X_test_tfidf = vectorizer.transform(X_test)\n"
   ]
  },
  {
   "cell_type": "code",
   "execution_count": 6,
   "id": "c82462bc",
   "metadata": {},
   "outputs": [
    {
     "name": "stdout",
     "output_type": "stream",
     "text": [
      "Accuracy: 50 0.9987341772151899\n",
      "              precision    recall  f1-score   support\n",
      "\n",
      "         ham       1.00      1.00      1.00       524\n",
      "        spam       1.00      1.00      1.00       266\n",
      "\n",
      "    accuracy                           1.00       790\n",
      "   macro avg       1.00      1.00      1.00       790\n",
      "weighted avg       1.00      1.00      1.00       790\n",
      "\n",
      "Train Accuracy: 1.0\n",
      "Test Accuracy: 0.9987341772151899\n",
      "Accuracy: 100 0.9987341772151899\n",
      "              precision    recall  f1-score   support\n",
      "\n",
      "         ham       1.00      1.00      1.00       524\n",
      "        spam       1.00      1.00      1.00       266\n",
      "\n",
      "    accuracy                           1.00       790\n",
      "   macro avg       1.00      1.00      1.00       790\n",
      "weighted avg       1.00      1.00      1.00       790\n",
      "\n",
      "Train Accuracy: 1.0\n",
      "Test Accuracy: 0.9987341772151899\n",
      "Accuracy: 150 0.9987341772151899\n",
      "              precision    recall  f1-score   support\n",
      "\n",
      "         ham       1.00      1.00      1.00       524\n",
      "        spam       1.00      1.00      1.00       266\n",
      "\n",
      "    accuracy                           1.00       790\n",
      "   macro avg       1.00      1.00      1.00       790\n",
      "weighted avg       1.00      1.00      1.00       790\n",
      "\n",
      "Train Accuracy: 1.0\n",
      "Test Accuracy: 0.9987341772151899\n",
      "Accuracy: 200 0.9987341772151899\n",
      "              precision    recall  f1-score   support\n",
      "\n",
      "         ham       1.00      1.00      1.00       524\n",
      "        spam       1.00      1.00      1.00       266\n",
      "\n",
      "    accuracy                           1.00       790\n",
      "   macro avg       1.00      1.00      1.00       790\n",
      "weighted avg       1.00      1.00      1.00       790\n",
      "\n",
      "Train Accuracy: 1.0\n",
      "Test Accuracy: 0.9987341772151899\n",
      "Accuracy: 250 0.9987341772151899\n",
      "              precision    recall  f1-score   support\n",
      "\n",
      "         ham       1.00      1.00      1.00       524\n",
      "        spam       1.00      1.00      1.00       266\n",
      "\n",
      "    accuracy                           1.00       790\n",
      "   macro avg       1.00      1.00      1.00       790\n",
      "weighted avg       1.00      1.00      1.00       790\n",
      "\n",
      "Train Accuracy: 1.0\n",
      "Test Accuracy: 0.9987341772151899\n",
      "Accuracy: 300 0.9987341772151899\n",
      "              precision    recall  f1-score   support\n",
      "\n",
      "         ham       1.00      1.00      1.00       524\n",
      "        spam       1.00      1.00      1.00       266\n",
      "\n",
      "    accuracy                           1.00       790\n",
      "   macro avg       1.00      1.00      1.00       790\n",
      "weighted avg       1.00      1.00      1.00       790\n",
      "\n",
      "Train Accuracy: 1.0\n",
      "Test Accuracy: 0.9987341772151899\n"
     ]
    }
   ],
   "source": [
    "n_estimators_list = [50, 100, 150, 200, 250, 300]\n",
    "for estimator in n_estimators_list:\n",
    "    model_test = RandomForestClassifier(n_estimators=estimator, random_state=42)\n",
    "    model_test.fit(X_train_tfidf, y_train)\n",
    "    y_predictions = model_test.predict(X_test_tfidf)\n",
    "\n",
    "    print(\"Accuracy:\", estimator, accuracy_score(y_test, y_predictions))\n",
    "    print(classification_report(y_test,y_predictions))\n",
    "    print(\"Train Accuracy:\", model_test.score(X_train_tfidf, y_train))\n",
    "    print(\"Test Accuracy:\", model_test.score(X_test_tfidf, y_test))"
   ]
  },
  {
   "cell_type": "code",
   "execution_count": 8,
   "id": "ffd52ab5",
   "metadata": {},
   "outputs": [
    {
     "name": "stdout",
     "output_type": "stream",
     "text": [
      "Accuracy: 300 0.9987341772151899\n",
      "              precision    recall  f1-score   support\n",
      "\n",
      "         ham       1.00      1.00      1.00       524\n",
      "        spam       1.00      1.00      1.00       266\n",
      "\n",
      "    accuracy                           1.00       790\n",
      "   macro avg       1.00      1.00      1.00       790\n",
      "weighted avg       1.00      1.00      1.00       790\n",
      "\n",
      "Train Accuracy: 1.0\n",
      "Test Accuracy: 0.9987341772151899\n"
     ]
    }
   ],
   "source": [
    "model1_test = RandomForestClassifier(n_estimators=100, random_state=42)\n",
    "model1_test.fit(X_train_tfidf, y_train)\n",
    "y_predictions = model1_test.predict(X_test_tfidf)\n",
    "\n",
    "print(\"Accuracy:\", estimator, accuracy_score(y_test, y_predictions))\n",
    "print(classification_report(y_test,y_predictions))\n",
    "print(\"Train Accuracy:\", model_test.score(X_train_tfidf, y_train))\n",
    "print(\"Test Accuracy:\", model_test.score(X_test_tfidf, y_test))"
   ]
  }
 ],
 "metadata": {
  "kernelspec": {
   "display_name": "Python 3",
   "language": "python",
   "name": "python3"
  },
  "language_info": {
   "codemirror_mode": {
    "name": "ipython",
    "version": 3
   },
   "file_extension": ".py",
   "mimetype": "text/x-python",
   "name": "python",
   "nbconvert_exporter": "python",
   "pygments_lexer": "ipython3",
   "version": "3.11.9"
  }
 },
 "nbformat": 4,
 "nbformat_minor": 5
}
